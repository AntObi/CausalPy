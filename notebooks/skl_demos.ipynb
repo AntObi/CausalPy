{
    "cells": [
        {
            "cell_type": "markdown",
            "metadata": {},
            "source": [
                "# Demo of scikit-learn models"
            ]
        },
        {
            "cell_type": "code",
            "execution_count": null,
            "metadata": {},
            "outputs": [],
            "source": [
                "import pandas as pd\n",
                "import arviz as az\n",
                "import matplotlib.pyplot as plt"
            ]
        },
        {
            "cell_type": "code",
            "execution_count": null,
            "metadata": {},
            "outputs": [],
            "source": [
                "%config InlineBackend.figure_format = 'retina'\n",
                "az.style.use(\"arviz-darkgrid\")"
            ]
        },
        {
            "cell_type": "code",
            "execution_count": null,
            "metadata": {},
            "outputs": [],
            "source": [
                "%load_ext autoreload\n",
                "%autoreload 2"
            ]
        },
        {
            "cell_type": "code",
            "execution_count": null,
            "metadata": {},
            "outputs": [],
            "source": [
                "export_images = False"
            ]
        },
        {
            "cell_type": "markdown",
            "metadata": {},
            "source": [
                "## Synthetic control"
            ]
        },
        {
            "cell_type": "code",
            "execution_count": null,
            "metadata": {},
            "outputs": [],
            "source": [
                "from causalpy.simulate_data import generate_synthetic_control_data\n",
                "\n",
                "treatment_time = 70\n",
                "df, weightings_true = generate_synthetic_control_data(treatment_time=treatment_time)"
            ]
        },
        {
            "cell_type": "markdown",
            "metadata": {},
            "source": [
                "First we use a common model where regression coefficients are constrained to the interval [0, 1] and to sum to 1. This uses a custom `WeightedProportion` class."
            ]
        },
        {
            "cell_type": "code",
            "execution_count": null,
            "metadata": {},
            "outputs": [],
            "source": [
                "from causalpy.skl_models import WeightedProportion  \n",
                "from causalpy.skl_experiments import SyntheticControl\n",
                "\n",
                "# Note, we do not want an intercept in this model\n",
                "thing = SyntheticControl(df, \n",
                "                         treatment_time, \n",
                "                         formula = \"actual ~ 0 + a + b + c + d + e + f + g\",\n",
                "                         prediction_model=WeightedProportion())\n",
                "\n",
                "fig, ax = thing.plot()"
            ]
        },
        {
            "cell_type": "code",
            "execution_count": null,
            "metadata": {},
            "outputs": [],
            "source": [
                "thing.plot_coeffs()"
            ]
        },
        {
            "cell_type": "markdown",
            "metadata": {},
            "source": [
                "But we can see that (for this dataset) these estimates are quite bad. So we can lift the \"sum to 1\" assumption and instead use the `LinearRegression` model, but still constrain weights to be positive. Equally, you could experiment with the `Ridge` model (e.g. `Ridge(positive=True, alpha=100)`)."
            ]
        },
        {
            "cell_type": "code",
            "execution_count": null,
            "metadata": {},
            "outputs": [],
            "source": [
                "from causalpy.skl_experiments import SyntheticControl\n",
                "from sklearn.linear_model import LinearRegression\n",
                "\n",
                "# Note, we do not want an intercept in this model\n",
                "thing = SyntheticControl(df, \n",
                "                         treatment_time, \n",
                "                         formula = \"actual ~ 0 + a + b + c + d + e + f + g\",\n",
                "                         prediction_model=LinearRegression(positive=True))\n",
                "\n",
                "fig, ax = thing.plot()\n",
                "\n",
                "if export_images:\n",
                "    plt.savefig('../img/interrupted_time_series_skl.png', bbox_inches='tight', dpi=300, facecolor=\"white\")"
            ]
        },
        {
            "cell_type": "code",
            "execution_count": null,
            "metadata": {},
            "outputs": [],
            "source": [
                "thing.plot_coeffs()"
            ]
        },
        {
            "cell_type": "markdown",
            "metadata": {},
            "source": [
                "## Interrupted time series"
            ]
        },
        {
            "cell_type": "code",
            "execution_count": null,
            "metadata": {},
            "outputs": [],
            "source": [
                "# # Generate data\n",
                "# from causalpy.simulate_data import generate_time_series_data\n",
                "\n",
                "# df = generate_time_series_data(\"2017-01-01\")\n",
                "# df = df.loc[:, ['month', 'year', 't', 'y']]\n",
                "# df.to_csv(\"../causalpy/data/its.csv\")"
            ]
        },
        {
            "cell_type": "code",
            "execution_count": null,
            "metadata": {},
            "outputs": [],
            "source": [
                "# Load data\n",
                "df = pd.read_csv('../causalpy/data/its.csv', parse_dates=[\"date\"])\n",
                "df.set_index(\"date\", inplace=True)\n",
                "treatment_time = pd.to_datetime(\"2017-01-01\")"
            ]
        },
        {
            "cell_type": "code",
            "execution_count": null,
            "metadata": {},
            "outputs": [],
            "source": [
                "from causalpy.skl_experiments import InterruptedTimeSeries\n",
                "from sklearn.linear_model import LinearRegression\n",
                "\n",
                "thing = InterruptedTimeSeries(df, \n",
                "                              treatment_time, \n",
                "                              formula = 'y ~ 1 + t + C(month)', \n",
                "                              prediction_model=LinearRegression())\n",
                "\n",
                "fig, ax = thing.plot()\n",
                "\n",
                "if export_images:\n",
                "    plt.savefig('../img/interrupted_time_series_skl.png', bbox_inches='tight', dpi=300, facecolor=\"white\")"
            ]
        },
        {
            "cell_type": "markdown",
            "metadata": {},
            "source": [
                "## Difference in Differences"
            ]
        },
        {
            "cell_type": "code",
            "execution_count": null,
            "metadata": {},
            "outputs": [],
            "source": [
                "data = pd.read_csv(\"../causalpy/data/did.csv\")"
            ]
        },
        {
            "cell_type": "code",
            "execution_count": null,
            "metadata": {},
            "outputs": [],
            "source": [
                "from causalpy.skl_experiments import DifferenceInDifferences\n",
                "from sklearn.linear_model import LinearRegression\n",
                "\n",
                "# NOTE: `treated` is a deterministic function of `t` and `group`. So add this function into the formula.\n",
                "\n",
                "thing = DifferenceInDifferences(data, \n",
                "                                formula = 'y ~ 1 + group + t + treated:group',\n",
                "                                prediction_model=LinearRegression())\n",
                "fig, ax = thing.plot()\n",
                "\n",
                "if export_images:\n",
                "    plt.savefig('../img/difference_in_differences_skl.png', bbox_inches='tight', dpi=300, facecolor=\"white\")"
            ]
        },
        {
            "cell_type": "markdown",
            "metadata": {},
            "source": [
                "## Regression discontinuity"
            ]
        },
        {
            "cell_type": "code",
            "execution_count": null,
            "metadata": {},
            "outputs": [],
            "source": [
                "# # Generate data\n",
                "# from causalpy.simulate_data import generate_regression_discontinuity_data\n",
                "# df = generate_regression_discontinuity_data(true_treatment_threshold=0.5)\n",
                "# df.to_csv('../causalpy/data/regression_discontinuity.csv', index=False)"
            ]
        },
        {
            "cell_type": "code",
            "execution_count": null,
            "metadata": {},
            "outputs": [],
            "source": [
                "# Load data\n",
                "data = pd.read_csv('../causalpy/data/regression_discontinuity.csv')"
            ]
        },
        {
            "cell_type": "code",
            "execution_count": null,
            "metadata": {},
            "outputs": [],
            "source": [
                "from causalpy.skl_experiments import RegressionDiscontinuity\n",
                "from sklearn.linear_model import LinearRegression\n",
                "\n",
                "thing = RegressionDiscontinuity(data, \n",
                "                                formula = 'y ~ 1 + x + treated',\n",
                "                                prediction_model=LinearRegression(),\n",
                "                                treatment_threshold=0.5)\n",
                "thing.plot();"
            ]
        },
        {
            "cell_type": "code",
            "execution_count": null,
            "metadata": {},
            "outputs": [],
            "source": [
                "thing = RegressionDiscontinuity(data, \n",
                "                                formula = 'y ~ 1 + x + treated + x:treated',\n",
                "                                prediction_model=LinearRegression(), \n",
                "                                treatment_threshold=0.5)\n",
                "thing.plot();"
            ]
        },
        {
            "cell_type": "code",
            "execution_count": null,
            "metadata": {},
            "outputs": [],
            "source": [
                "from causalpy.skl_experiments import RegressionDiscontinuity\n",
                "from sklearn.gaussian_process import GaussianProcessRegressor\n",
                "from sklearn.gaussian_process.kernels import WhiteKernel, ExpSineSquared\n",
                "\n",
                "kernel = 1.0 * ExpSineSquared(1.0, 5.0) + WhiteKernel(1e-1)\n",
                "thing = RegressionDiscontinuity(data, \n",
                "                                formula = 'y ~ 1 + x + treated',\n",
                "                                prediction_model=GaussianProcessRegressor(kernel=kernel), \n",
                "                                treatment_threshold=0.5)\n",
                "fig, ax = thing.plot()\n",
                "\n",
                "if export_images:\n",
                "    plt.savefig('../img/regression_discontinuity_skl.png', bbox_inches='tight', dpi=300, facecolor=\"white\")"
            ]
        },
        {
            "cell_type": "code",
            "execution_count": null,
            "metadata": {},
            "outputs": [],
            "source": []
        },
        {
            "cell_type": "code",
            "execution_count": null,
            "metadata": {},
            "outputs": [],
            "source": []
        }
    ],
    "metadata": {
        "kernelspec": {
            "display_name": "Python 3.10.6 ('causal_impact_env')",
            "language": "python",
            "name": "python3"
        },
        "language_info": {
            "codemirror_mode": {
                "name": "ipython",
                "version": 3
            },
            "file_extension": ".py",
            "mimetype": "text/x-python",
            "name": "python",
            "nbconvert_exporter": "python",
            "pygments_lexer": "ipython3",
            "version": "3.10.6"
        },
        "orig_nbformat": 4,
        "vscode": {
            "interpreter": {
                "hash": "9881cfe9f87406b887f6ccd58edb0315838ab8dde3efbd591e7d15982e6b7b87"
            }
        }
    },
    "nbformat": 4,
    "nbformat_minor": 2
}
