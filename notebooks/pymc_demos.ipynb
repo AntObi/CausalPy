{
    "cells": [
        {
            "cell_type": "markdown",
            "metadata": {},
            "source": [
                "# Demo of PyMC models"
            ]
        },
        {
            "cell_type": "code",
            "execution_count": null,
            "metadata": {},
            "outputs": [],
            "source": [
                "import pandas as pd\n",
                "import arviz as az\n",
                "import matplotlib.pyplot as plt\n",
                "import pymc as pm"
            ]
        },
        {
            "cell_type": "code",
            "execution_count": null,
            "metadata": {},
            "outputs": [],
            "source": [
                "%config InlineBackend.figure_format = 'retina'\n",
                "az.style.use(\"arviz-darkgrid\")"
            ]
        },
        {
            "cell_type": "code",
            "execution_count": null,
            "metadata": {},
            "outputs": [],
            "source": [
                "%load_ext autoreload\n",
                "%autoreload 2"
            ]
        },
        {
            "cell_type": "code",
            "execution_count": null,
            "metadata": {},
            "outputs": [],
            "source": [
                "export_images = False"
            ]
        },
        {
            "cell_type": "markdown",
            "metadata": {},
            "source": [
                "## Synthetic Control"
            ]
        },
        {
            "cell_type": "code",
            "execution_count": null,
            "metadata": {},
            "outputs": [],
            "source": [
                "from causalpy.simulate_data import generate_synthetic_control_data\n",
                "\n",
                "treatment_time = 70\n",
                "data, weightings_true = generate_synthetic_control_data(treatment_time=treatment_time)\n",
                "data.head()"
            ]
        },
        {
            "cell_type": "code",
            "execution_count": null,
            "metadata": {},
            "outputs": [],
            "source": [
                "from causalpy.pymc_experiments import SyntheticControl\n",
                "from causalpy.pymc_models import WeightedSumFitter\n",
                "\n",
                "# Note, we do not want an intercept in this model\n",
                "thing = SyntheticControl(data,\n",
                "                         treatment_time,\n",
                "                         formula = \"actual ~ 0 + a + b + c + d + e + f + g\",\n",
                "                         prediction_model=WeightedSumFitter())\n",
                "\n",
                "thing.plot();\n",
                "\n",
                "if export_images:\n",
                "    plt.savefig('../img/synthetic_control_pymc.png', bbox_inches='tight', dpi=300, facecolor=\"white\")"
            ]
        },
        {
            "cell_type": "markdown",
            "metadata": {},
            "source": [
                "## Interrupted time series"
            ]
        },
        {
            "cell_type": "code",
            "execution_count": null,
            "metadata": {},
            "outputs": [],
            "source": [
                "# # Generate data\n",
                "# from causalpy.simulate_data import generate_time_series_data\n",
                "\n",
                "# df = generate_time_series_data(\"2017-01-01\")\n",
                "# df = df.loc[:, ['month', 'year', 't', 'y']]\n",
                "# df.to_csv(\"../causalpy/data/its.csv\")"
            ]
        },
        {
            "cell_type": "code",
            "execution_count": null,
            "metadata": {},
            "outputs": [],
            "source": [
                "# Load data\n",
                "df = pd.read_csv('../causalpy/data/its.csv', parse_dates=[\"date\"])\n",
                "df.set_index(\"date\", inplace=True)\n",
                "treatment_time = pd.to_datetime(\"2017-01-01\")\n",
                "df.head()"
            ]
        },
        {
            "cell_type": "code",
            "execution_count": null,
            "metadata": {},
            "outputs": [],
            "source": [
                "from causalpy.pymc_experiments import InterruptedTimeSeries\n",
                "from causalpy.pymc_models import LinearRegression\n",
                "\n",
                "thing = InterruptedTimeSeries(df, \n",
                "                              treatment_time, \n",
                "                              formula = 'y ~ 1 + t + C(month)', \n",
                "                              prediction_model=LinearRegression())\n",
                "\n",
                "fig, ax = thing.plot()\n",
                "\n",
                "if export_images:\n",
                "    plt.savefig('../img/interrupted_time_series_pymc.png', bbox_inches='tight', dpi=300, facecolor=\"white\")"
            ]
        },
        {
            "cell_type": "markdown",
            "metadata": {},
            "source": [
                "## Difference in differences"
            ]
        },
        {
            "cell_type": "code",
            "execution_count": null,
            "metadata": {},
            "outputs": [],
            "source": []
        },
        {
            "cell_type": "markdown",
            "metadata": {},
            "source": [
                "## Regression discontinuity"
            ]
        },
        {
            "cell_type": "code",
            "execution_count": null,
            "metadata": {},
            "outputs": [],
            "source": [
                "# # Generate data\n",
                "# from causalpy.simulate_data import generate_regression_discontinuity_data\n",
                "# df = generate_regression_discontinuity_data(true_treatment_threshold=0.5)\n",
                "# df.to_csv('../causalpy/data/regression_discontinuity.csv', index=False)"
            ]
        },
        {
            "cell_type": "code",
            "execution_count": null,
            "metadata": {},
            "outputs": [],
            "source": [
                "# Load data\n",
                "data = pd.read_csv('../causalpy/data/regression_discontinuity.csv')"
            ]
        },
        {
            "cell_type": "code",
            "execution_count": null,
            "metadata": {},
            "outputs": [],
            "source": [
                "from causalpy.pymc_experiments import RegressionDiscontinuity\n",
                "from causalpy.pymc_models import LinearRegression\n",
                "\n",
                "thing = RegressionDiscontinuity(data, \n",
                "                                formula = 'y ~ 1 + x + treated + x:treated',\n",
                "                                prediction_model=LinearRegression(), \n",
                "                                treatment_threshold=0.5)\n",
                "thing.plot()\n",
                "\n",
                "if export_images:\n",
                "    plt.savefig('../img/regression_discontinuity_pymc.png', bbox_inches='tight', dpi=300, facecolor=\"white\")"
            ]
        },
        {
            "cell_type": "markdown",
            "metadata": {},
            "source": [
                "TODO: apply GP model OR use non-linear features (i.e. polynomial or sin basis functions) in linear regression approach"
            ]
        }
    ],
    "metadata": {
        "kernelspec": {
            "display_name": "Python 3.10.6 ('CausalPy')",
            "language": "python",
            "name": "python3"
        },
        "language_info": {
            "codemirror_mode": {
                "name": "ipython",
                "version": 3
            },
            "file_extension": ".py",
            "mimetype": "text/x-python",
            "name": "python",
            "nbconvert_exporter": "python",
            "pygments_lexer": "ipython3",
            "version": "3.10.6"
        },
        "orig_nbformat": 4,
        "vscode": {
            "interpreter": {
                "hash": "02f5385db19eab57520277c5168790c7855381ee953bdbb5c89c321e1f17586e"
            }
        }
    },
    "nbformat": 4,
    "nbformat_minor": 2
}
