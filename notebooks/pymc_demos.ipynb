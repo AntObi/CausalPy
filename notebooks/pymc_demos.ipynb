{
    "cells": [
        {
            "cell_type": "markdown",
            "metadata": {},
            "source": [
                "# Demo of PyMC models"
            ]
        },
        {
            "cell_type": "code",
            "execution_count": null,
            "metadata": {},
            "outputs": [],
            "source": [
                "import arviz as az\n",
                "import matplotlib.pyplot as plt\n",
                "import pandas as pd\n",
                "import pathlib"
            ]
        },
        {
            "cell_type": "code",
            "execution_count": null,
            "metadata": {},
            "outputs": [],
            "source": [
                "%config InlineBackend.figure_format = 'svg'\n",
                "az.style.use(\"arviz-darkgrid\")"
            ]
        },
        {
            "cell_type": "code",
            "execution_count": null,
            "metadata": {},
            "outputs": [],
            "source": [
                "%load_ext autoreload\n",
                "%autoreload 2"
            ]
        },
        {
            "cell_type": "code",
            "execution_count": null,
            "metadata": {},
            "outputs": [],
            "source": [
                "export_images = True"
            ]
        },
        {
            "cell_type": "markdown",
            "metadata": {},
            "source": [
                "## Synthetic Control"
            ]
        },
        {
            "cell_type": "code",
            "execution_count": null,
            "metadata": {},
            "outputs": [],
            "source": [
                "sc_data_path = pathlib.Path.cwd().parents[0] / 'causalpy' / 'data' / 'synthetic_control.csv'\n",
                "df = pd.read_csv(sc_data_path)\n",
                "treatment_time = 70"
            ]
        },
        {
            "cell_type": "code",
            "execution_count": null,
            "metadata": {},
            "outputs": [],
            "source": [
                "from causalpy.pymc_experiments import SyntheticControl\n",
                "from causalpy.pymc_models import WeightedSumFitter\n",
                "\n",
                "# Note, we do not want an intercept in this model\n",
                "thing = SyntheticControl(df,\n",
                "                         treatment_time,\n",
                "                         formula = \"actual ~ 0 + a + b + c + d + e + f + g\",\n",
                "                         prediction_model=WeightedSumFitter())\n",
                "\n",
                "thing.plot();\n",
                "\n",
                "if export_images:\n",
                "    plt.savefig(pathlib.Path.cwd().parents[0] / 'img' / 'synthetic_control_pymc.svg', bbox_inches='tight', format=\"svg\")"
            ]
        },
        {
            "cell_type": "markdown",
            "metadata": {},
            "source": [
                "## Interrupted time series"
            ]
        },
        {
            "cell_type": "code",
            "execution_count": null,
            "metadata": {},
            "outputs": [],
            "source": [
                "its_data_path = pathlib.Path.cwd().parents[0] / 'causalpy' / 'data' / 'its.csv'\n",
                "df = pd.read_csv(its_data_path, parse_dates=[\"date\"])\n",
                "df.set_index(\"date\", inplace=True)\n",
                "treatment_time = pd.to_datetime(\"2017-01-01\")"
            ]
        },
        {
            "cell_type": "code",
            "execution_count": null,
            "metadata": {},
            "outputs": [],
            "source": [
                "from causalpy.pymc_experiments import InterruptedTimeSeries\n",
                "from causalpy.pymc_models import LinearRegression\n",
                "\n",
                "thing = InterruptedTimeSeries(df, \n",
                "                              treatment_time, \n",
                "                              formula = 'y ~ 1 + t + C(month)', \n",
                "                              prediction_model=LinearRegression())\n",
                "\n",
                "fig, ax = thing.plot()\n",
                "\n",
                "if export_images:\n",
                "    plt.savefig(pathlib.Path.cwd().parents[0] / 'img' / 'interrupted_time_series_pymc.svg', bbox_inches='tight', format=\"svg\")"
            ]
        },
        {
            "cell_type": "markdown",
            "metadata": {},
            "source": [
                "## Difference in differences"
            ]
        },
        {
            "cell_type": "code",
            "execution_count": null,
            "metadata": {},
            "outputs": [],
            "source": [
                "did_data_path = pathlib.Path.cwd().parents[0] / 'causalpy' / 'data' / 'did.csv'\n",
                "\n",
                "df = pd.read_csv(did_data_path)"
            ]
        },
        {
            "cell_type": "code",
            "execution_count": null,
            "metadata": {},
            "outputs": [],
            "source": [
                "from causalpy.pymc_experiments import DifferenceInDifferences\n",
                "from causalpy.pymc_models import LinearRegression\n",
                "\n",
                "# NOTE: `treated` is a deterministic function of `t` and `group`. So add this function into the formula.\n",
                "\n",
                "thing = DifferenceInDifferences(df, \n",
                "                                formula = 'y ~ 1 + group + t + treated:group',\n",
                "                                prediction_model=LinearRegression())\n",
                "fig, ax = thing.plot()\n",
                "\n",
                "if export_images:\n",
                "    plt.savefig(pathlib.Path.cwd().parents[0] / 'img' / 'difference_in_differences_pymc.svg', bbox_inches='tight', format=\"svg\")"
            ]
        },
        {
            "cell_type": "markdown",
            "metadata": {},
            "source": [
                "## Regression discontinuity"
            ]
        },
        {
            "cell_type": "code",
            "execution_count": null,
            "metadata": {},
            "outputs": [],
            "source": [
                "rd_data_path = pathlib.Path.cwd().parents[0] / 'causalpy' / 'data' / 'regression_discontinuity.csv'\n",
                "df = pd.read_csv(rd_data_path)\n",
                "df"
            ]
        },
        {
            "cell_type": "code",
            "execution_count": null,
            "metadata": {},
            "outputs": [],
            "source": [
                "from causalpy.pymc_experiments import RegressionDiscontinuity\n",
                "from causalpy.pymc_models import LinearRegression\n",
                "\n",
                "thing = RegressionDiscontinuity(df, \n",
                "                                formula = 'y ~ 1 + bs(x, df=6) + treated',\n",
                "                                prediction_model=LinearRegression(), \n",
                "                                treatment_threshold=0.5)\n",
                "thing.plot()\n",
                "\n",
                "if export_images:\n",
                "    plt.savefig(pathlib.Path.cwd().parents[0] / 'img' / 'regression_discontinuity_pymc.svg', bbox_inches='tight', format=\"svg\")"
            ]
        },
        {
            "cell_type": "code",
            "execution_count": null,
            "metadata": {},
            "outputs": [],
            "source": []
        }
    ],
    "metadata": {
        "kernelspec": {
            "display_name": "Python 3.10.6 ('CausalPy')",
            "language": "python",
            "name": "python3"
        },
        "language_info": {
            "codemirror_mode": {
                "name": "ipython",
                "version": 3
            },
            "file_extension": ".py",
            "mimetype": "text/x-python",
            "name": "python",
            "nbconvert_exporter": "python",
            "pygments_lexer": "ipython3",
            "version": "3.10.6"
        },
        "orig_nbformat": 4,
        "vscode": {
            "interpreter": {
                "hash": "02f5385db19eab57520277c5168790c7855381ee953bdbb5c89c321e1f17586e"
            }
        }
    },
    "nbformat": 4,
    "nbformat_minor": 2
}
