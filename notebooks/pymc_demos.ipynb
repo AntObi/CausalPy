{
 "cells": [
  {
   "cell_type": "markdown",
   "metadata": {},
   "source": [
    "# Demo of PyMC models"
   ]
  },
  {
   "cell_type": "code",
   "execution_count": 1,
   "metadata": {},
   "outputs": [],
   "source": [
    "import pandas as pd\n",
    "import arviz as az\n",
    "import matplotlib.pyplot as plt\n",
    "import pymc as pm"
   ]
  },
  {
   "cell_type": "code",
   "execution_count": 2,
   "metadata": {},
   "outputs": [],
   "source": [
    "%config InlineBackend.figure_format = 'retina'\n",
    "az.style.use(\"arviz-darkgrid\")"
   ]
  },
  {
   "cell_type": "code",
   "execution_count": 3,
   "metadata": {},
   "outputs": [],
   "source": [
    "%load_ext autoreload\n",
    "%autoreload 2"
   ]
  },
  {
   "cell_type": "code",
   "execution_count": 4,
   "metadata": {},
   "outputs": [],
   "source": [
    "# export_images = False"
   ]
  },
  {
   "cell_type": "markdown",
   "metadata": {},
   "source": [
    "## Synthetic Control"
   ]
  },
  {
   "cell_type": "code",
   "execution_count": 5,
   "metadata": {},
   "outputs": [
    {
     "data": {
      "text/html": [
       "<div>\n",
       "<style scoped>\n",
       "    .dataframe tbody tr th:only-of-type {\n",
       "        vertical-align: middle;\n",
       "    }\n",
       "\n",
       "    .dataframe tbody tr th {\n",
       "        vertical-align: top;\n",
       "    }\n",
       "\n",
       "    .dataframe thead th {\n",
       "        text-align: right;\n",
       "    }\n",
       "</style>\n",
       "<table border=\"1\" class=\"dataframe\">\n",
       "  <thead>\n",
       "    <tr style=\"text-align: right;\">\n",
       "      <th></th>\n",
       "      <th>a</th>\n",
       "      <th>b</th>\n",
       "      <th>c</th>\n",
       "      <th>d</th>\n",
       "      <th>e</th>\n",
       "      <th>f</th>\n",
       "      <th>g</th>\n",
       "      <th>counterfactual</th>\n",
       "      <th>causal effect</th>\n",
       "      <th>actual</th>\n",
       "    </tr>\n",
       "  </thead>\n",
       "  <tbody>\n",
       "    <tr>\n",
       "      <th>0</th>\n",
       "      <td>2.332098</td>\n",
       "      <td>2.238517</td>\n",
       "      <td>1.248913</td>\n",
       "      <td>-0.926955</td>\n",
       "      <td>-0.491275</td>\n",
       "      <td>-0.472065</td>\n",
       "      <td>1.516705</td>\n",
       "      <td>0.512181</td>\n",
       "      <td>-0.0</td>\n",
       "      <td>0.559065</td>\n",
       "    </tr>\n",
       "    <tr>\n",
       "      <th>1</th>\n",
       "      <td>2.380889</td>\n",
       "      <td>2.187503</td>\n",
       "      <td>1.650457</td>\n",
       "      <td>-0.063272</td>\n",
       "      <td>-0.276167</td>\n",
       "      <td>0.129606</td>\n",
       "      <td>1.542607</td>\n",
       "      <td>0.885205</td>\n",
       "      <td>-0.0</td>\n",
       "      <td>0.743294</td>\n",
       "    </tr>\n",
       "    <tr>\n",
       "      <th>2</th>\n",
       "      <td>1.935960</td>\n",
       "      <td>2.316063</td>\n",
       "      <td>1.633501</td>\n",
       "      <td>-0.091429</td>\n",
       "      <td>0.900490</td>\n",
       "      <td>0.380425</td>\n",
       "      <td>2.283108</td>\n",
       "      <td>1.252498</td>\n",
       "      <td>-0.0</td>\n",
       "      <td>0.992209</td>\n",
       "    </tr>\n",
       "    <tr>\n",
       "      <th>3</th>\n",
       "      <td>1.753859</td>\n",
       "      <td>2.874979</td>\n",
       "      <td>1.887567</td>\n",
       "      <td>-0.128559</td>\n",
       "      <td>1.530930</td>\n",
       "      <td>1.449129</td>\n",
       "      <td>2.285779</td>\n",
       "      <td>1.614330</td>\n",
       "      <td>-0.0</td>\n",
       "      <td>1.907130</td>\n",
       "    </tr>\n",
       "    <tr>\n",
       "      <th>4</th>\n",
       "      <td>1.508339</td>\n",
       "      <td>2.642015</td>\n",
       "      <td>2.033197</td>\n",
       "      <td>0.802892</td>\n",
       "      <td>2.357611</td>\n",
       "      <td>1.623012</td>\n",
       "      <td>2.357124</td>\n",
       "      <td>1.971634</td>\n",
       "      <td>-0.0</td>\n",
       "      <td>1.734782</td>\n",
       "    </tr>\n",
       "  </tbody>\n",
       "</table>\n",
       "</div>"
      ],
      "text/plain": [
       "          a         b         c         d         e         f         g  \\\n",
       "0  2.332098  2.238517  1.248913 -0.926955 -0.491275 -0.472065  1.516705   \n",
       "1  2.380889  2.187503  1.650457 -0.063272 -0.276167  0.129606  1.542607   \n",
       "2  1.935960  2.316063  1.633501 -0.091429  0.900490  0.380425  2.283108   \n",
       "3  1.753859  2.874979  1.887567 -0.128559  1.530930  1.449129  2.285779   \n",
       "4  1.508339  2.642015  2.033197  0.802892  2.357611  1.623012  2.357124   \n",
       "\n",
       "   counterfactual  causal effect    actual  \n",
       "0        0.512181           -0.0  0.559065  \n",
       "1        0.885205           -0.0  0.743294  \n",
       "2        1.252498           -0.0  0.992209  \n",
       "3        1.614330           -0.0  1.907130  \n",
       "4        1.971634           -0.0  1.734782  "
      ]
     },
     "execution_count": 5,
     "metadata": {},
     "output_type": "execute_result"
    }
   ],
   "source": [
    "from causal_impact.simulate_data import generate_synthetic_control_data\n",
    "\n",
    "treatment_time = 70\n",
    "data, weightings_true = generate_synthetic_control_data(treatment_time=treatment_time)\n",
    "data.head()"
   ]
  },
  {
   "cell_type": "code",
   "execution_count": 6,
   "metadata": {},
   "outputs": [
    {
     "name": "stdout",
     "output_type": "stream",
     "text": [
      "building model\n"
     ]
    },
    {
     "name": "stderr",
     "output_type": "stream",
     "text": [
      "Auto-assigning NUTS sampler...\n",
      "Initializing NUTS using jitter+adapt_diag...\n",
      "Multiprocess sampling (4 chains in 4 jobs)\n",
      "NUTS: [beta, sigma]\n"
     ]
    },
    {
     "data": {
      "text/html": [
       "\n",
       "<style>\n",
       "    /* Turns off some styling */\n",
       "    progress {\n",
       "        /* gets rid of default border in Firefox and Opera. */\n",
       "        border: none;\n",
       "        /* Needs to be in here for Safari polyfill so background images work as expected. */\n",
       "        background-size: auto;\n",
       "    }\n",
       "    progress:not([value]), progress:not([value])::-webkit-progress-bar {\n",
       "        background: repeating-linear-gradient(45deg, #7e7e7e, #7e7e7e 10px, #5c5c5c 10px, #5c5c5c 20px);\n",
       "    }\n",
       "    .progress-bar-interrupted, .progress-bar-interrupted::-webkit-progress-bar {\n",
       "        background: #F44336;\n",
       "    }\n",
       "</style>\n"
      ],
      "text/plain": [
       "<IPython.core.display.HTML object>"
      ]
     },
     "metadata": {},
     "output_type": "display_data"
    },
    {
     "data": {
      "text/html": [
       "\n",
       "    <div>\n",
       "      <progress value='8000' class='' max='8000' style='width:300px; height:20px; vertical-align: middle;'></progress>\n",
       "      100.00% [8000/8000 00:08&lt;00:00 Sampling 4 chains, 0 divergences]\n",
       "    </div>\n",
       "    "
      ],
      "text/plain": [
       "<IPython.core.display.HTML object>"
      ]
     },
     "metadata": {},
     "output_type": "display_data"
    },
    {
     "name": "stderr",
     "output_type": "stream",
     "text": [
      "Sampling 4 chains for 1_000 tune and 1_000 draw iterations (4_000 + 4_000 draws total) took 14 seconds.\n",
      "The acceptance probability does not match the target. It is 0.7126, but should be close to 0.8. Try to increase the number of tuning steps.\n"
     ]
    },
    {
     "name": "stdout",
     "output_type": "stream",
     "text": [
      "pm.sample DONE\n"
     ]
    },
    {
     "ename": "ValueError",
     "evalue": "Output size (71, 1) is not compatible with broadcast dimensions of inputs (71, 71).\nApply node that caused the error: normal_rv{0, (0, 0), floatX, True}(RandomGeneratorSharedVariable(<Generator(PCG64) at 0x16B772500>), TensorConstant{[71  1]}, TensorConstant{11}, mu, sigma)\nToposort index: 5\nInputs types: [RandomGeneratorType, TensorType(int64, (2,)), TensorType(int64, ()), TensorType(float64, (None,)), TensorType(float64, ())]\nInputs shapes: ['No shapes', (2,), (), (71,), ()]\nInputs strides: ['No strides', (8,), (), (8,), ()]\nInputs values: [Generator(PCG64) at 0x16B772500, array([71,  1]), array(11), 'not shown', array(1.39365696)]\nOutputs clients: [['output'], ['output']]\n\nHINT: Re-running with most Aesara optimizations disabled could provide a back-trace showing when this node was created. This can be done by setting the Aesara flag 'optimizer=fast_compile'. If that does not work, Aesara optimizations can be disabled with 'optimizer=None'.\nHINT: Use the Aesara flag `exception_verbosity=high` for a debug print-out and storage map footprint of this Apply node.",
     "output_type": "error",
     "traceback": [
      "\u001b[0;31m---------------------------------------------------------------------------\u001b[0m",
      "\u001b[0;31mValueError\u001b[0m                                Traceback (most recent call last)",
      "File \u001b[0;32m~/mambaforge/envs/causal_impact_env/lib/python3.10/site-packages/aesara/compile/function/types.py:971\u001b[0m, in \u001b[0;36mFunction.__call__\u001b[0;34m(self, *args, **kwargs)\u001b[0m\n\u001b[1;32m    969\u001b[0m \u001b[39mtry\u001b[39;00m:\n\u001b[1;32m    970\u001b[0m     outputs \u001b[39m=\u001b[39m (\n\u001b[0;32m--> 971\u001b[0m         \u001b[39mself\u001b[39;49m\u001b[39m.\u001b[39;49mvm()\n\u001b[1;32m    972\u001b[0m         \u001b[39mif\u001b[39;00m output_subset \u001b[39mis\u001b[39;00m \u001b[39mNone\u001b[39;00m\n\u001b[1;32m    973\u001b[0m         \u001b[39melse\u001b[39;00m \u001b[39mself\u001b[39m\u001b[39m.\u001b[39mvm(output_subset\u001b[39m=\u001b[39moutput_subset)\n\u001b[1;32m    974\u001b[0m     )\n\u001b[1;32m    975\u001b[0m \u001b[39mexcept\u001b[39;00m \u001b[39mException\u001b[39;00m:\n",
      "File \u001b[0;32m~/mambaforge/envs/causal_impact_env/lib/python3.10/site-packages/aesara/graph/op.py:543\u001b[0m, in \u001b[0;36mOp.make_py_thunk.<locals>.rval\u001b[0;34m(p, i, o, n, params)\u001b[0m\n\u001b[1;32m    539\u001b[0m \u001b[39m@is_thunk_type\u001b[39m\n\u001b[1;32m    540\u001b[0m \u001b[39mdef\u001b[39;00m \u001b[39mrval\u001b[39m(\n\u001b[1;32m    541\u001b[0m     p\u001b[39m=\u001b[39mp, i\u001b[39m=\u001b[39mnode_input_storage, o\u001b[39m=\u001b[39mnode_output_storage, n\u001b[39m=\u001b[39mnode, params\u001b[39m=\u001b[39m\u001b[39mNone\u001b[39;00m\n\u001b[1;32m    542\u001b[0m ):\n\u001b[0;32m--> 543\u001b[0m     r \u001b[39m=\u001b[39m p(n, [x[\u001b[39m0\u001b[39;49m] \u001b[39mfor\u001b[39;49;00m x \u001b[39min\u001b[39;49;00m i], o)\n\u001b[1;32m    544\u001b[0m     \u001b[39mfor\u001b[39;00m o \u001b[39min\u001b[39;00m node\u001b[39m.\u001b[39moutputs:\n",
      "File \u001b[0;32m~/mambaforge/envs/causal_impact_env/lib/python3.10/site-packages/aesara/tensor/random/op.py:368\u001b[0m, in \u001b[0;36mRandomVariable.perform\u001b[0;34m(self, node, inputs, outputs)\u001b[0m\n\u001b[1;32m    366\u001b[0m rng_var_out[\u001b[39m0\u001b[39m] \u001b[39m=\u001b[39m rng\n\u001b[0;32m--> 368\u001b[0m smpl_val \u001b[39m=\u001b[39m \u001b[39mself\u001b[39;49m\u001b[39m.\u001b[39;49mrng_fn(rng, \u001b[39m*\u001b[39;49m(args \u001b[39m+\u001b[39;49m [size]))\n\u001b[1;32m    370\u001b[0m \u001b[39mif\u001b[39;00m (\n\u001b[1;32m    371\u001b[0m     \u001b[39mnot\u001b[39;00m \u001b[39misinstance\u001b[39m(smpl_val, np\u001b[39m.\u001b[39mndarray)\n\u001b[1;32m    372\u001b[0m     \u001b[39mor\u001b[39;00m \u001b[39mstr\u001b[39m(smpl_val\u001b[39m.\u001b[39mdtype) \u001b[39m!=\u001b[39m out_var\u001b[39m.\u001b[39mtype\u001b[39m.\u001b[39mdtype\n\u001b[1;32m    373\u001b[0m ):\n",
      "File \u001b[0;32m~/mambaforge/envs/causal_impact_env/lib/python3.10/site-packages/aesara/tensor/random/op.py:166\u001b[0m, in \u001b[0;36mRandomVariable.rng_fn\u001b[0;34m(self, rng, *args, **kwargs)\u001b[0m\n\u001b[1;32m    165\u001b[0m \u001b[39m\"\"\"Sample a numeric random variate.\"\"\"\u001b[39;00m\n\u001b[0;32m--> 166\u001b[0m \u001b[39mreturn\u001b[39;00m \u001b[39mgetattr\u001b[39;49m(rng, \u001b[39mself\u001b[39;49m\u001b[39m.\u001b[39;49mname)(\u001b[39m*\u001b[39;49margs, \u001b[39m*\u001b[39;49m\u001b[39m*\u001b[39;49mkwargs)\n",
      "File \u001b[0;32m_generator.pyx:1136\u001b[0m, in \u001b[0;36mnumpy.random._generator.Generator.normal\u001b[0;34m()\u001b[0m\n",
      "File \u001b[0;32m_common.pyx:594\u001b[0m, in \u001b[0;36mnumpy.random._common.cont\u001b[0;34m()\u001b[0m\n",
      "File \u001b[0;32m_common.pyx:512\u001b[0m, in \u001b[0;36mnumpy.random._common.cont_broadcast_2\u001b[0;34m()\u001b[0m\n",
      "File \u001b[0;32m_common.pyx:245\u001b[0m, in \u001b[0;36mnumpy.random._common.validate_output_shape\u001b[0;34m()\u001b[0m\n",
      "\u001b[0;31mValueError\u001b[0m: Output size (71, 1) is not compatible with broadcast dimensions of inputs (71, 71).",
      "\nDuring handling of the above exception, another exception occurred:\n",
      "\u001b[0;31mValueError\u001b[0m                                Traceback (most recent call last)",
      "Cell \u001b[0;32mIn [6], line 5\u001b[0m\n\u001b[1;32m      2\u001b[0m \u001b[39mfrom\u001b[39;00m \u001b[39mcausal_impact\u001b[39;00m\u001b[39m.\u001b[39;00m\u001b[39mpymc_models\u001b[39;00m \u001b[39mimport\u001b[39;00m WeightedSumFitter\n\u001b[1;32m      4\u001b[0m \u001b[39m# Note, we do not want an intercept in this model\u001b[39;00m\n\u001b[0;32m----> 5\u001b[0m thing \u001b[39m=\u001b[39m SyntheticControl(data, \n\u001b[1;32m      6\u001b[0m                          treatment_time, \n\u001b[1;32m      7\u001b[0m                          formula \u001b[39m=\u001b[39;49m \u001b[39m\"\u001b[39;49m\u001b[39mactual ~ 0 + a + b + c + d + e + f + g\u001b[39;49m\u001b[39m\"\u001b[39;49m,\n\u001b[1;32m      8\u001b[0m                          prediction_model\u001b[39m=\u001b[39;49mWeightedSumFitter())\n",
      "File \u001b[0;32m~/git/causal-inference/causal_impact/pymc.py:44\u001b[0m, in \u001b[0;36mTimeSeriesExperiment.__init__\u001b[0;34m(self, data, treatment_time, formula, prediction_model, **kwargs)\u001b[0m\n\u001b[1;32m     41\u001b[0m \u001b[39mself\u001b[39m\u001b[39m.\u001b[39mpost_y \u001b[39m=\u001b[39m np\u001b[39m.\u001b[39masarray(new_y)\n\u001b[1;32m     43\u001b[0m \u001b[39m# fit the model to the observed (pre-intervention) data\u001b[39;00m\n\u001b[0;32m---> 44\u001b[0m \u001b[39mself\u001b[39;49m\u001b[39m.\u001b[39;49mprediction_model\u001b[39m.\u001b[39;49mfit(X\u001b[39m=\u001b[39;49m\u001b[39mself\u001b[39;49m\u001b[39m.\u001b[39;49mpre_X, y\u001b[39m=\u001b[39;49m\u001b[39mself\u001b[39;49m\u001b[39m.\u001b[39;49mpre_y)\n\u001b[1;32m     46\u001b[0m \u001b[39m# score the goodness of fit to the pre-intervention data\u001b[39;00m\n\u001b[1;32m     47\u001b[0m \u001b[39mself\u001b[39m\u001b[39m.\u001b[39mscore \u001b[39m=\u001b[39m \u001b[39mself\u001b[39m\u001b[39m.\u001b[39mprediction_model\u001b[39m.\u001b[39mscore(X\u001b[39m=\u001b[39m\u001b[39mself\u001b[39m\u001b[39m.\u001b[39mpre_X, y\u001b[39m=\u001b[39m\u001b[39mself\u001b[39m\u001b[39m.\u001b[39mpre_y)\n",
      "File \u001b[0;32m~/git/causal-inference/causal_impact/ModelBuilder.py:28\u001b[0m, in \u001b[0;36mModelBuilder.fit\u001b[0;34m(self, X, y)\u001b[0m\n\u001b[1;32m     26\u001b[0m \u001b[39mself\u001b[39m\u001b[39m.\u001b[39midata \u001b[39m=\u001b[39m pm\u001b[39m.\u001b[39msample()\n\u001b[1;32m     27\u001b[0m \u001b[39mprint\u001b[39m(\u001b[39m\"\u001b[39m\u001b[39mpm.sample DONE\u001b[39m\u001b[39m\"\u001b[39m)\n\u001b[0;32m---> 28\u001b[0m \u001b[39mself\u001b[39m\u001b[39m.\u001b[39midata\u001b[39m.\u001b[39mextend(pm\u001b[39m.\u001b[39;49msample_prior_predictive())\n\u001b[1;32m     29\u001b[0m \u001b[39mprint\u001b[39m(\u001b[39m\"\u001b[39m\u001b[39msample_prior_predictive DONE\u001b[39m\u001b[39m\"\u001b[39m)\n\u001b[1;32m     30\u001b[0m \u001b[39mself\u001b[39m\u001b[39m.\u001b[39midata\u001b[39m.\u001b[39mextend(pm\u001b[39m.\u001b[39msample_posterior_predictive(\u001b[39mself\u001b[39m\u001b[39m.\u001b[39midata))\n",
      "File \u001b[0;32m~/mambaforge/envs/causal_impact_env/lib/python3.10/site-packages/pymc/sampling.py:2254\u001b[0m, in \u001b[0;36msample_prior_predictive\u001b[0;34m(samples, model, var_names, random_seed, return_inferencedata, idata_kwargs, compile_kwargs)\u001b[0m\n\u001b[1;32m   2243\u001b[0m compile_kwargs\u001b[39m.\u001b[39msetdefault(\u001b[39m\"\u001b[39m\u001b[39maccept_inplace\u001b[39m\u001b[39m\"\u001b[39m, \u001b[39mTrue\u001b[39;00m)\n\u001b[1;32m   2245\u001b[0m sampler_fn \u001b[39m=\u001b[39m compile_forward_sampling_function(\n\u001b[1;32m   2246\u001b[0m     vars_to_sample,\n\u001b[1;32m   2247\u001b[0m     vars_in_trace\u001b[39m=\u001b[39m[],\n\u001b[0;32m   (...)\u001b[0m\n\u001b[1;32m   2251\u001b[0m     \u001b[39m*\u001b[39m\u001b[39m*\u001b[39mcompile_kwargs,\n\u001b[1;32m   2252\u001b[0m )\n\u001b[0;32m-> 2254\u001b[0m values \u001b[39m=\u001b[39m \u001b[39mzip\u001b[39;49m(\u001b[39m*\u001b[39;49m(sampler_fn() \u001b[39mfor\u001b[39;49;00m i \u001b[39min\u001b[39;49;00m \u001b[39mrange\u001b[39;49m(samples)))\n\u001b[1;32m   2256\u001b[0m data \u001b[39m=\u001b[39m {k: np\u001b[39m.\u001b[39mstack(v) \u001b[39mfor\u001b[39;00m k, v \u001b[39min\u001b[39;00m \u001b[39mzip\u001b[39m(names, values)}\n\u001b[1;32m   2257\u001b[0m \u001b[39mif\u001b[39;00m data \u001b[39mis\u001b[39;00m \u001b[39mNone\u001b[39;00m:\n",
      "File \u001b[0;32m~/mambaforge/envs/causal_impact_env/lib/python3.10/site-packages/pymc/sampling.py:2254\u001b[0m, in \u001b[0;36m<genexpr>\u001b[0;34m(.0)\u001b[0m\n\u001b[1;32m   2243\u001b[0m compile_kwargs\u001b[39m.\u001b[39msetdefault(\u001b[39m\"\u001b[39m\u001b[39maccept_inplace\u001b[39m\u001b[39m\"\u001b[39m, \u001b[39mTrue\u001b[39;00m)\n\u001b[1;32m   2245\u001b[0m sampler_fn \u001b[39m=\u001b[39m compile_forward_sampling_function(\n\u001b[1;32m   2246\u001b[0m     vars_to_sample,\n\u001b[1;32m   2247\u001b[0m     vars_in_trace\u001b[39m=\u001b[39m[],\n\u001b[0;32m   (...)\u001b[0m\n\u001b[1;32m   2251\u001b[0m     \u001b[39m*\u001b[39m\u001b[39m*\u001b[39mcompile_kwargs,\n\u001b[1;32m   2252\u001b[0m )\n\u001b[0;32m-> 2254\u001b[0m values \u001b[39m=\u001b[39m \u001b[39mzip\u001b[39m(\u001b[39m*\u001b[39m(sampler_fn() \u001b[39mfor\u001b[39;00m i \u001b[39min\u001b[39;00m \u001b[39mrange\u001b[39m(samples)))\n\u001b[1;32m   2256\u001b[0m data \u001b[39m=\u001b[39m {k: np\u001b[39m.\u001b[39mstack(v) \u001b[39mfor\u001b[39;00m k, v \u001b[39min\u001b[39;00m \u001b[39mzip\u001b[39m(names, values)}\n\u001b[1;32m   2257\u001b[0m \u001b[39mif\u001b[39;00m data \u001b[39mis\u001b[39;00m \u001b[39mNone\u001b[39;00m:\n",
      "File \u001b[0;32m~/mambaforge/envs/causal_impact_env/lib/python3.10/site-packages/aesara/compile/function/types.py:984\u001b[0m, in \u001b[0;36mFunction.__call__\u001b[0;34m(self, *args, **kwargs)\u001b[0m\n\u001b[1;32m    982\u001b[0m     \u001b[39mif\u001b[39;00m \u001b[39mhasattr\u001b[39m(\u001b[39mself\u001b[39m\u001b[39m.\u001b[39mvm, \u001b[39m\"\u001b[39m\u001b[39mthunks\u001b[39m\u001b[39m\"\u001b[39m):\n\u001b[1;32m    983\u001b[0m         thunk \u001b[39m=\u001b[39m \u001b[39mself\u001b[39m\u001b[39m.\u001b[39mvm\u001b[39m.\u001b[39mthunks[\u001b[39mself\u001b[39m\u001b[39m.\u001b[39mvm\u001b[39m.\u001b[39mposition_of_error]\n\u001b[0;32m--> 984\u001b[0m     raise_with_op(\n\u001b[1;32m    985\u001b[0m         \u001b[39mself\u001b[39;49m\u001b[39m.\u001b[39;49mmaker\u001b[39m.\u001b[39;49mfgraph,\n\u001b[1;32m    986\u001b[0m         node\u001b[39m=\u001b[39;49m\u001b[39mself\u001b[39;49m\u001b[39m.\u001b[39;49mvm\u001b[39m.\u001b[39;49mnodes[\u001b[39mself\u001b[39;49m\u001b[39m.\u001b[39;49mvm\u001b[39m.\u001b[39;49mposition_of_error],\n\u001b[1;32m    987\u001b[0m         thunk\u001b[39m=\u001b[39;49mthunk,\n\u001b[1;32m    988\u001b[0m         storage_map\u001b[39m=\u001b[39;49m\u001b[39mgetattr\u001b[39;49m(\u001b[39mself\u001b[39;49m\u001b[39m.\u001b[39;49mvm, \u001b[39m\"\u001b[39;49m\u001b[39mstorage_map\u001b[39;49m\u001b[39m\"\u001b[39;49m, \u001b[39mNone\u001b[39;49;00m),\n\u001b[1;32m    989\u001b[0m     )\n\u001b[1;32m    990\u001b[0m \u001b[39melse\u001b[39;00m:\n\u001b[1;32m    991\u001b[0m     \u001b[39m# old-style linkers raise their own exceptions\u001b[39;00m\n\u001b[1;32m    992\u001b[0m     \u001b[39mraise\u001b[39;00m\n",
      "File \u001b[0;32m~/mambaforge/envs/causal_impact_env/lib/python3.10/site-packages/aesara/link/utils.py:534\u001b[0m, in \u001b[0;36mraise_with_op\u001b[0;34m(fgraph, node, thunk, exc_info, storage_map)\u001b[0m\n\u001b[1;32m    529\u001b[0m     warnings\u001b[39m.\u001b[39mwarn(\n\u001b[1;32m    530\u001b[0m         \u001b[39mf\u001b[39m\u001b[39m\"\u001b[39m\u001b[39m{\u001b[39;00mexc_type\u001b[39m}\u001b[39;00m\u001b[39m error does not allow us to add an extra error message\u001b[39m\u001b[39m\"\u001b[39m\n\u001b[1;32m    531\u001b[0m     )\n\u001b[1;32m    532\u001b[0m     \u001b[39m# Some exception need extra parameter in inputs. So forget the\u001b[39;00m\n\u001b[1;32m    533\u001b[0m     \u001b[39m# extra long error message in that case.\u001b[39;00m\n\u001b[0;32m--> 534\u001b[0m \u001b[39mraise\u001b[39;00m exc_value\u001b[39m.\u001b[39mwith_traceback(exc_trace)\n",
      "File \u001b[0;32m~/mambaforge/envs/causal_impact_env/lib/python3.10/site-packages/aesara/compile/function/types.py:971\u001b[0m, in \u001b[0;36mFunction.__call__\u001b[0;34m(self, *args, **kwargs)\u001b[0m\n\u001b[1;32m    968\u001b[0m t0_fn \u001b[39m=\u001b[39m time\u001b[39m.\u001b[39mtime()\n\u001b[1;32m    969\u001b[0m \u001b[39mtry\u001b[39;00m:\n\u001b[1;32m    970\u001b[0m     outputs \u001b[39m=\u001b[39m (\n\u001b[0;32m--> 971\u001b[0m         \u001b[39mself\u001b[39;49m\u001b[39m.\u001b[39;49mvm()\n\u001b[1;32m    972\u001b[0m         \u001b[39mif\u001b[39;00m output_subset \u001b[39mis\u001b[39;00m \u001b[39mNone\u001b[39;00m\n\u001b[1;32m    973\u001b[0m         \u001b[39melse\u001b[39;00m \u001b[39mself\u001b[39m\u001b[39m.\u001b[39mvm(output_subset\u001b[39m=\u001b[39moutput_subset)\n\u001b[1;32m    974\u001b[0m     )\n\u001b[1;32m    975\u001b[0m \u001b[39mexcept\u001b[39;00m \u001b[39mException\u001b[39;00m:\n\u001b[1;32m    976\u001b[0m     restore_defaults()\n",
      "File \u001b[0;32m~/mambaforge/envs/causal_impact_env/lib/python3.10/site-packages/aesara/graph/op.py:543\u001b[0m, in \u001b[0;36mOp.make_py_thunk.<locals>.rval\u001b[0;34m(p, i, o, n, params)\u001b[0m\n\u001b[1;32m    539\u001b[0m \u001b[39m@is_thunk_type\u001b[39m\n\u001b[1;32m    540\u001b[0m \u001b[39mdef\u001b[39;00m \u001b[39mrval\u001b[39m(\n\u001b[1;32m    541\u001b[0m     p\u001b[39m=\u001b[39mp, i\u001b[39m=\u001b[39mnode_input_storage, o\u001b[39m=\u001b[39mnode_output_storage, n\u001b[39m=\u001b[39mnode, params\u001b[39m=\u001b[39m\u001b[39mNone\u001b[39;00m\n\u001b[1;32m    542\u001b[0m ):\n\u001b[0;32m--> 543\u001b[0m     r \u001b[39m=\u001b[39m p(n, [x[\u001b[39m0\u001b[39;49m] \u001b[39mfor\u001b[39;49;00m x \u001b[39min\u001b[39;49;00m i], o)\n\u001b[1;32m    544\u001b[0m     \u001b[39mfor\u001b[39;00m o \u001b[39min\u001b[39;00m node\u001b[39m.\u001b[39moutputs:\n\u001b[1;32m    545\u001b[0m         compute_map[o][\u001b[39m0\u001b[39m] \u001b[39m=\u001b[39m \u001b[39mTrue\u001b[39;00m\n",
      "File \u001b[0;32m~/mambaforge/envs/causal_impact_env/lib/python3.10/site-packages/aesara/tensor/random/op.py:368\u001b[0m, in \u001b[0;36mRandomVariable.perform\u001b[0;34m(self, node, inputs, outputs)\u001b[0m\n\u001b[1;32m    364\u001b[0m     rng \u001b[39m=\u001b[39m copy(rng)\n\u001b[1;32m    366\u001b[0m rng_var_out[\u001b[39m0\u001b[39m] \u001b[39m=\u001b[39m rng\n\u001b[0;32m--> 368\u001b[0m smpl_val \u001b[39m=\u001b[39m \u001b[39mself\u001b[39;49m\u001b[39m.\u001b[39;49mrng_fn(rng, \u001b[39m*\u001b[39;49m(args \u001b[39m+\u001b[39;49m [size]))\n\u001b[1;32m    370\u001b[0m \u001b[39mif\u001b[39;00m (\n\u001b[1;32m    371\u001b[0m     \u001b[39mnot\u001b[39;00m \u001b[39misinstance\u001b[39m(smpl_val, np\u001b[39m.\u001b[39mndarray)\n\u001b[1;32m    372\u001b[0m     \u001b[39mor\u001b[39;00m \u001b[39mstr\u001b[39m(smpl_val\u001b[39m.\u001b[39mdtype) \u001b[39m!=\u001b[39m out_var\u001b[39m.\u001b[39mtype\u001b[39m.\u001b[39mdtype\n\u001b[1;32m    373\u001b[0m ):\n\u001b[1;32m    374\u001b[0m     smpl_val \u001b[39m=\u001b[39m _asarray(smpl_val, dtype\u001b[39m=\u001b[39mout_var\u001b[39m.\u001b[39mtype\u001b[39m.\u001b[39mdtype)\n",
      "File \u001b[0;32m~/mambaforge/envs/causal_impact_env/lib/python3.10/site-packages/aesara/tensor/random/op.py:166\u001b[0m, in \u001b[0;36mRandomVariable.rng_fn\u001b[0;34m(self, rng, *args, **kwargs)\u001b[0m\n\u001b[1;32m    164\u001b[0m \u001b[39mdef\u001b[39;00m \u001b[39mrng_fn\u001b[39m(\u001b[39mself\u001b[39m, rng, \u001b[39m*\u001b[39margs, \u001b[39m*\u001b[39m\u001b[39m*\u001b[39mkwargs):\n\u001b[1;32m    165\u001b[0m     \u001b[39m\"\"\"Sample a numeric random variate.\"\"\"\u001b[39;00m\n\u001b[0;32m--> 166\u001b[0m     \u001b[39mreturn\u001b[39;00m \u001b[39mgetattr\u001b[39;49m(rng, \u001b[39mself\u001b[39;49m\u001b[39m.\u001b[39;49mname)(\u001b[39m*\u001b[39;49margs, \u001b[39m*\u001b[39;49m\u001b[39m*\u001b[39;49mkwargs)\n",
      "File \u001b[0;32m_generator.pyx:1136\u001b[0m, in \u001b[0;36mnumpy.random._generator.Generator.normal\u001b[0;34m()\u001b[0m\n",
      "File \u001b[0;32m_common.pyx:594\u001b[0m, in \u001b[0;36mnumpy.random._common.cont\u001b[0;34m()\u001b[0m\n",
      "File \u001b[0;32m_common.pyx:512\u001b[0m, in \u001b[0;36mnumpy.random._common.cont_broadcast_2\u001b[0;34m()\u001b[0m\n",
      "File \u001b[0;32m_common.pyx:245\u001b[0m, in \u001b[0;36mnumpy.random._common.validate_output_shape\u001b[0;34m()\u001b[0m\n",
      "\u001b[0;31mValueError\u001b[0m: Output size (71, 1) is not compatible with broadcast dimensions of inputs (71, 71).\nApply node that caused the error: normal_rv{0, (0, 0), floatX, True}(RandomGeneratorSharedVariable(<Generator(PCG64) at 0x16B772500>), TensorConstant{[71  1]}, TensorConstant{11}, mu, sigma)\nToposort index: 5\nInputs types: [RandomGeneratorType, TensorType(int64, (2,)), TensorType(int64, ()), TensorType(float64, (None,)), TensorType(float64, ())]\nInputs shapes: ['No shapes', (2,), (), (71,), ()]\nInputs strides: ['No strides', (8,), (), (8,), ()]\nInputs values: [Generator(PCG64) at 0x16B772500, array([71,  1]), array(11), 'not shown', array(1.39365696)]\nOutputs clients: [['output'], ['output']]\n\nHINT: Re-running with most Aesara optimizations disabled could provide a back-trace showing when this node was created. This can be done by setting the Aesara flag 'optimizer=fast_compile'. If that does not work, Aesara optimizations can be disabled with 'optimizer=None'.\nHINT: Use the Aesara flag `exception_verbosity=high` for a debug print-out and storage map footprint of this Apply node."
     ]
    }
   ],
   "source": [
    "from causal_impact.pymc import SyntheticControl\n",
    "from causal_impact.pymc_models import WeightedSumFitter\n",
    "\n",
    "# Note, we do not want an intercept in this model\n",
    "thing = SyntheticControl(data, \n",
    "                         treatment_time, \n",
    "                         formula = \"actual ~ 0 + a + b + c + d + e + f + g\",\n",
    "                         prediction_model=WeightedSumFitter())"
   ]
  },
  {
   "cell_type": "code",
   "execution_count": null,
   "metadata": {},
   "outputs": [],
   "source": [
    "fig, ax = thing.plot()"
   ]
  }
 ],
 "metadata": {
  "kernelspec": {
   "display_name": "Python 3.10.6 ('causal_impact_env')",
   "language": "python",
   "name": "python3"
  },
  "language_info": {
   "codemirror_mode": {
    "name": "ipython",
    "version": 3
   },
   "file_extension": ".py",
   "mimetype": "text/x-python",
   "name": "python",
   "nbconvert_exporter": "python",
   "pygments_lexer": "ipython3",
   "version": "3.10.6"
  },
  "orig_nbformat": 4,
  "vscode": {
   "interpreter": {
    "hash": "9881cfe9f87406b887f6ccd58edb0315838ab8dde3efbd591e7d15982e6b7b87"
   }
  }
 },
 "nbformat": 4,
 "nbformat_minor": 2
}
