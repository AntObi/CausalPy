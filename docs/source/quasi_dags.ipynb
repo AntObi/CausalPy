{
    "cells": [
        {
            "cell_type": "markdown",
            "metadata": {},
            "source": [
                "# Causal DAGS for Quasi-Experiments"
            ]
        },
        {
            "cell_type": "markdown",
            "metadata": {},
            "source": [
                "This page provides an overview of causal Directed Acyclic Graphs (DAG's) for some of the most common quasi-experiments. It takes inspiration from a paper by {cite:t}`steiner2017graphical`, and the books by {cite:t}`cunningham2021causal` and {cite:t}`huntington2021effect`, and readers are encouraged to consult these sources for more details."
            ]
        },
        {
            "cell_type": "code",
            "execution_count": 1,
            "metadata": {
                "tags": [
                    "remove-input"
                ]
            },
            "outputs": [],
            "source": [
                "import daft\n",
                "import matplotlib.pyplot as plt"
            ]
        },
        {
            "cell_type": "code",
            "execution_count": 2,
            "metadata": {
                "tags": [
                    "remove-input"
                ]
            },
            "outputs": [],
            "source": [
                "ff = \"times new roman\"\n",
                "plt.rcParams[\"font.family\"] = ff\n",
                "\n",
                "GRID_UNIT = 2.0\n",
                "DPI = 200\n",
                "NODE_EC = \"none\""
            ]
        },
        {
            "cell_type": "markdown",
            "metadata": {},
            "source": [
                "Before we take a look at randomized controlled trials (RCTs) and quasi-experiments, let's first consider the concept of confounding. Confounding occurs when a variable (or variables) causally influence both the treatment and the outcome and is very common in observational studies. This can lead to biased estimates of the treatment  effect (the causal effect of $Z \\rightarrow Y$). The following causal DAG illustrates the concept of confounding. Note that the confounder is written as a vector because there may be multiple confounding variables,  $\\mathbf{X}=x_1, x_2,x_3$."
            ]
        },
        {
            "cell_type": "code",
            "execution_count": 3,
            "metadata": {
                "tags": [
                    "remove-input"
                ]
            },
            "outputs": [
                {
                    "data": {
                        "image/png": "[encoded data removed]",
                        "text/plain": [
                            "<Figure size 267.717x228.346 with 1 Axes>"
                        ]
                    },
                    "metadata": {},
                    "output_type": "display_data"
                }
            ],
            "source": [
                "pgm = daft.PGM(dpi=DPI, grid_unit=GRID_UNIT, node_ec=NODE_EC)\n",
                "\n",
                "pgm.add_node(\"z\", \"$Z$\", 1, 0)\n",
                "pgm.add_node(\"x\", \"$\\mathbf{X}$\", 1.5, 0.75)\n",
                "pgm.add_node(\"y\", \"$Y$\", 2, 0)\n",
                "\n",
                "pgm.add_edge(\"z\", \"y\")\n",
                "pgm.add_edge(\"x\", \"y\")\n",
                "pgm.add_edge(\"x\", \"z\")\n",
                "\n",
                "pgm.render();"
            ]
        },
        {
            "cell_type": "markdown",
            "metadata": {},
            "source": [
                "One way to tell that our estimate of the causal relationship $Z \\rightarrow Y$ may be biased is the presence of a backdoor path, $Z \\leftarrow \\mathbf{X} \\rightarrow Y$. This path type is known as a \"fork\". Because $\\mathbf{X}$ is a common cause of $Z$ and $Y$, any observed statistical relation between $Z$ and $Y$ may be due to the confounding effect of $\\mathbf{X}$. \n",
                "\n",
                "Backdoor paths are problematic because they introduce _statistical associations_ between variables that do not reflect the true causal relationships, potentially leading to biased causal estimates. For example, if we ran a regression of the form `y ~ z`, and observe a main effect of $Z$ on $Y$, we have no way of knowing if this represents a true causal impact of $Z$ on $Y$, or if it is due to the confounding effect of $\\mathbf{X}$. \n",
                "\n",
                "One approach is to \"close the backdoor path\" by conditioning on the confounding variables. Practically, this could involve including confounders $\\mathbf{X}$ as a covariate in a regression model such as: `y ~ z + x₁ + x₂ + x₃`. Without explaining why, the coefficient for the main effect of $Z$ would now be an unbiased estimate of the _causal_ effect of $Z \\rightarrow Y$.\n",
                "\n",
                "However, unless we are very sure that we have accurate measures of _all_ confounding variables (maybe there is an $x_4$ that we don't know about or couldn't measure), it is still possible that our estimate of the causal effect is biased."
            ]
        },
        {
            "cell_type": "markdown",
            "metadata": {},
            "source": [
                "This leads us to Randomized Controlled Trials (RCTs) which are considered the gold standard for estimating causal effects. One reason for this is that we (as experimenters) intervene in the system by assigning units to treatment by {term}`random assignment`. Because of this intervention, any causal influence of the confounders upon the treatment $\\mathbf{X} \\rightarrow Z$ is broken - treamtent is now soley determined by the randomisation process, $R \\rightarrow T$. The following causal DAG illustrates the structure of an RCT."
            ]
        },
        {
            "cell_type": "code",
            "execution_count": 4,
            "metadata": {
                "tags": [
                    "remove-input"
                ]
            },
            "outputs": [
                {
                    "data": {
                        "image/png": "[encoded data removed]",
                        "text/plain": [
                            "<Figure size 425.197x228.346 with 1 Axes>"
                        ]
                    },
                    "metadata": {},
                    "output_type": "display_data"
                }
            ],
            "source": [
                "pgm = daft.PGM(dpi=DPI, grid_unit=GRID_UNIT, node_ec=NODE_EC)\n",
                "\n",
                "pgm.add_node(\"r\", \"$R$\", 0, 0)\n",
                "pgm.add_node(\"z\", \"$Z$\", 1, 0)\n",
                "pgm.add_node(\"x\", \"$\\mathbf{X}$\", 1.5, 0.75)\n",
                "pgm.add_node(\"y\", \"$Y$\", 2, 0)\n",
                "\n",
                "pgm.add_edge(\"r\", \"z\")\n",
                "pgm.add_edge(\"z\", \"y\")\n",
                "pgm.add_edge(\"x\", \"y\")\n",
                "\n",
                "pgm.render();"
            ]
        },
        {
            "cell_type": "markdown",
            "metadata": {},
            "source": [
                "The new variable $R$ represents the random assignment of units to the treatment group. This means that the treatment effect $Z \\rightarrow Y$ can be estimated without bias."
            ]
        },
        {
            "cell_type": "markdown",
            "metadata": {},
            "source": [
                "## Instrumental Variables\n",
                "\n",
                "In quasi-experiments, we cannot randomly assign subjects to treatment groups. So confounders $\\mathbf{X}$ will still influence treatment assignment. In the instrumental variable (IV) approach, the causal effect of $Z \\rightarrow Y$ is identifiable if we have an IV that causally influences the treatment $Z$ but not the outcome $Y$."
            ]
        },
        {
            "cell_type": "code",
            "execution_count": 5,
            "metadata": {
                "tags": [
                    "remove-input"
                ]
            },
            "outputs": [
                {
                    "data": {
                        "image/png": "[encoded data removed]",
                        "text/plain": [
                            "<Figure size 425.197x228.346 with 1 Axes>"
                        ]
                    },
                    "metadata": {},
                    "output_type": "display_data"
                }
            ],
            "source": [
                "pgm = daft.PGM(dpi=DPI, grid_unit=GRID_UNIT, node_ec=NODE_EC)\n",
                "\n",
                "pgm.add_node(\"iv\", \"$IV$\", 0, 0)\n",
                "pgm.add_node(\"z\", \"$Z$\", 1, 0)\n",
                "pgm.add_node(\"y\", \"$Y$\", 2, 0)\n",
                "pgm.add_node(\"x\", \"$\\mathbf{X}$\", 1.5, 0.75)\n",
                "pgm.add_edge(\"iv\", \"z\")\n",
                "pgm.add_edge(\"x\", \"z\")\n",
                "pgm.add_edge(\"x\", \"y\")\n",
                "pgm.add_edge(\"z\", \"y\")\n",
                "\n",
                "pgm.render();"
            ]
        },
        {
            "cell_type": "markdown",
            "metadata": {},
            "source": [
                "Let's try to get some intuition of why having the $IV$ helps:\n",
                "* The presence of $\\mathbf{X}$ is a confounder because it influences both $Z$ and $Y$.\n",
                "* But the $IV$ helps overcome this confounding because it is not influenced by $\\mathbf{X}$.\n",
                "* Any association between the $IV$ and $Y$ must be through the treatment $Z$.\n",
                "* This means that the $IV$ can be used to estimate the causal effect of $Z \\rightarrow Y$, without being confounded by $\\mathbf{X}$. Informally, the $IV$ causes some variation in the treatment $Z$ that is not due to $\\mathbf{X}$, and this variation can be used to estimate the causal effect of $Z \\rightarrow Y$."
            ]
        },
        {
            "cell_type": "markdown",
            "metadata": {},
            "source": [
                "Readers are referred to {cite:t}`steiner2017graphical,cunningham2021causal` or {cite:t}`huntington2021effect` for a more in-depth discussion of the IV approach from the causal DAG perspective."
            ]
        },
        {
            "cell_type": "markdown",
            "metadata": {},
            "source": [
                "## Interrupted Time Series\n",
                "\n",
                "A causal DAG for interrupted time series quasi-experiment is given in Chapter 17 of {cite:t}`huntington2021effect`, though they are labelled as [Event Studies](https://theeffectbook.net/ch-EventStudies.html). These kinds of studies are suited to situations where an intervention is made at a given point in time at which we move from untreated to treated. Typically, we consider situations where there are a 'decent' number of observations over time. Here's the causal DAG - note that $\\text{time}$ represents all the things changing over time such as the time index as well as time-varying predictor variables."
            ]
        },
        {
            "cell_type": "code",
            "execution_count": 6,
            "metadata": {
                "tags": [
                    "remove-input"
                ]
            },
            "outputs": [
                {
                    "data": {
                        "image/png": "[encoded data removed]",
                        "text/plain": [
                            "<Figure size 425.197x267.717 with 1 Axes>"
                        ]
                    },
                    "metadata": {},
                    "output_type": "display_data"
                }
            ],
            "source": [
                "pgm = daft.PGM(dpi=DPI, grid_unit=GRID_UNIT, node_ec=NODE_EC)\n",
                "\n",
                "pgm.add_node(\"a\", \"after\\ntreatment\", -1, 0)\n",
                "pgm.add_node(\"z\", \"$Z$\", 0, 0)\n",
                "pgm.add_node(\"y\", \"$Y$\", 1, 0)\n",
                "pgm.add_node(\"t\", \"time\", 0, 1)\n",
                "\n",
                "pgm.add_edge(\"a\", \"z\")\n",
                "pgm.add_edge(\"t\", \"a\")\n",
                "pgm.add_edge(\"t\", \"y\")\n",
                "pgm.add_edge(\"z\", \"y\")\n",
                "\n",
                "pgm.render();"
            ]
        },
        {
            "cell_type": "markdown",
            "metadata": {},
            "source": [
                "What we want to understand is the causal effect of the treatment upon the outcome, $Z \\rightarrow Y$. But we have a back door path between $Z$ and $Y$ which will make this hard, $Z \\leftarrow \\text{after treatment} \\leftarrow \\text{time} \\rightarrow Y$.\n",
                "\n",
                ":::{note}\n",
                "Below is an attempt to explain one way that we can deal with this. Though it is a bit of a brain-twister and can take some time to get your head around. Thanks to Nick Huntington-Klein for some clarification in [this twitter thread](https://twitter.com/inferencelab/status/1783882438063661374).\n",
                ":::\n",
                "\n",
                "One approach we can use is:\n",
                "1. We want to close the backdoor path, and one way to do this is to split the dataset into two parts: pre-treatment and post-treatment. By fitting a model only to the pre-treatment data, we have removed any variation in $\\text{after treatment}$ (all values are $0$), so there is now no variation in $Z$ caused by $\\text{time}$. This is one way to close a backdoor path, and means that a model fitted to this data (e.g. $Y_{\\text{pre}} \\sim f(\\text{time}_{\\text{pre}})$) will not be biased by the backdoor path.\n",
                "2. However, our goal is to estimate the causal effects of the treatment $Z \\rightarrow Y$, but we have just removed any variation in $Z$ and it does not appear in the aforementioned model, $Y_{\\text{pre}} \\sim f(\\text{time}_{\\text{pre}})$, so our work is not done. One way to deal with this is to use the model to predict what would have happened in the post-treatment era if no treatment had been given. If we make the assumption that nothing would have changed in the absence of treatment, then this will be an unbiased estimate of the counterfactual. By comparing the counterfactual with the observed post-treatment data, we can estimate the treatment effect $Z \\rightarrow Y$. By focussing only on the post-treatment data we are looking at empirical outcomes $Y_\\text{post}$ which are affected by treatment $Z = 1$, but have closed the back door because all $\\text{after treatment} = 1$. The final comparison (subtraction) between the counterfactual estimate and the observed post-treatment data gives us the estimated treatment effect."
            ]
        },
        {
            "cell_type": "markdown",
            "metadata": {},
            "source": [
                "## Difference in Differences\n",
                "\n",
                "Difference in Difference studies involve comparing the change in outcomes over time between a treatment and control group. The causal DAG for this is given in Chapter 18 of {cite:t}`huntington2021effect`:"
            ]
        },
        {
            "cell_type": "code",
            "execution_count": 8,
            "metadata": {
                "tags": [
                    "remove-input"
                ]
            },
            "outputs": [
                {
                    "data": {
                        "image/png": "[encoded data removed]",
                        "text/plain": [
                            "<Figure size 267.717x267.717 with 1 Axes>"
                        ]
                    },
                    "metadata": {},
                    "output_type": "display_data"
                }
            ],
            "source": [
                "pgm = daft.PGM(dpi=DPI, grid_unit=GRID_UNIT, node_ec=NODE_EC)\n",
                "\n",
                "pgm.add_node(\"z\", \"$Z$\", 0, 0)\n",
                "pgm.add_node(\"y\", \"$Y$\", 1, 0)\n",
                "pgm.add_node(\"t\", \"time\", 0, 1)\n",
                "pgm.add_node(\"g\", \"group\", 1, 1)\n",
                "pgm.add_edge(\"t\", \"z\")\n",
                "pgm.add_edge(\"t\", \"y\")\n",
                "pgm.add_edge(\"g\", \"z\")\n",
                "pgm.add_edge(\"g\", \"y\")\n",
                "pgm.add_edge(\"z\", \"y\")\n",
                "pgm.render();"
            ]
        },
        {
            "cell_type": "markdown",
            "metadata": {},
            "source": [
                ":::{note}\n",
                "For our explanation below, we will assume we are dealing with the simplest case of a two-group, two-time period design, the so called \"classical\" 2$\\times$2 difference-in-differences design. \n",
                ":::\n",
                "\n",
                "Our goal is to estimate the causal effect of the treatment on the outcome, $Z \\rightarrow Y$, but now we have _two_ backdoor paths:\n",
                "1. $Z \\leftarrow \\text{time} \\rightarrow Y$\n",
                "2. $Z \\leftarrow \\text{group} \\rightarrow Y$\n",
                "\n",
                "From a regression point of view, both $time$ and $group$ are binary variables. In this situation, treatment is given to the treatment group ($\\text{group}=1$) at time $\\text{time}=1$.\n",
                "\n",
                "The causal effect of the treatment upon the outcome is typically estimated by fitting a regression model of the form `y ~ time + group + time:group`. The interaction term `time:group` captures the causal effect of $Z \\rightarrow Y$. \n",
                "\n",
                "We can note that this interaction term $\\text{time} \\times \\text{group}$ encodes the values of $Z$, which as we said above, is equal to 1 for only the treatment group at time 1. So another way to think about the inclusion of an interaction effect is that we are simply conditioning on all the observed data ($Z$, $\\text{time}$, $\\text{group}$, $Y$) to estimate the causal effect of $Z \\rightarrow Y$."
            ]
        },
        {
            "cell_type": "markdown",
            "metadata": {},
            "source": [
                "## Synthetic Control\n",
                "\n",
                ":::{warning}\n",
                "While many texts cover the synthetic control method, they typically do not provide a causal DAG-based treatment. So this section is pending - we hope to update it soon.\n",
                ":::"
            ]
        },
        {
            "cell_type": "markdown",
            "metadata": {},
            "source": [
                "## Regression Discontinuity\n",
                " \n",
                "The regression discontinuity design is similar to the interrupted time series design, but rather than the the treatment being at a specific point in time, treatment is based on a cutoff value $\\lambda$ along some running variable $RV$. This running variable could be a test score, age, spatial location, etc. The running variable may also influence the outcome $RV \\rightarrow Y$. The running variable may also be associated with a set of variables $\\mathbf{X}$ that influence the outcome, $RV - - - - \\mathbf{X} \\rightarrow Y$."
            ]
        },
        {
            "cell_type": "code",
            "execution_count": 12,
            "metadata": {
                "tags": [
                    "remove-input"
                ]
            },
            "outputs": [
                {
                    "data": {
                        "image/png": "[encoded data removed]",
                        "text/plain": [
                            "<Figure size 582.677x275.591 with 1 Axes>"
                        ]
                    },
                    "metadata": {},
                    "output_type": "display_data"
                }
            ],
            "source": [
                "pgm = daft.PGM(dpi=DPI, grid_unit=GRID_UNIT, node_ec=NODE_EC)\n",
                "\n",
                "# data generating graph\n",
                "pgm.add_node(\"a\", \"$RV$\", 0, 1)\n",
                "pgm.add_node(\"z\", \"$Z$\", 0, 0)\n",
                "pgm.add_node(\"x\", \"$\\mathbf{X}$\", 1, 1)\n",
                "pgm.add_node(\"y\", \"$Y$\", 1, 0)\n",
                "pgm.add_edge(\"a\", \"z\")\n",
                "pgm.add_edge(\"a\", \"y\")\n",
                "pgm.add_edge(\n",
                "    \"a\",\n",
                "    \"x\",\n",
                "    plot_params={\"ec\": \"grey\", \"lw\": 1.5, \"ls\": \":\", \"head_length\": 0, \"head_width\": 0},\n",
                ")\n",
                "pgm.add_edge(\"z\", \"y\")\n",
                "pgm.add_edge(\"x\", \"y\")\n",
                "pgm.add_text(0, 1.3, \"Data generating graph\")\n",
                "\n",
                "# limiting graph\n",
                "x_offset = 2\n",
                "pgm.add_node(\"a2\", r\"$RV \\rightarrow \\lambda$\", 0 + x_offset, 1)\n",
                "pgm.add_node(\"z2\", \"$Z$\", 0 + x_offset, 0)\n",
                "pgm.add_node(\"x2\", \"$\\mathbf{X}$\", 1 + x_offset, 1)\n",
                "pgm.add_node(\"y2\", \"$Y$\", 1 + x_offset, 0)\n",
                "pgm.add_edge(\"a2\", \"z2\")\n",
                "pgm.add_edge(\"z2\", \"y2\")\n",
                "pgm.add_edge(\"x2\", \"y2\")\n",
                "pgm.add_text(x_offset, 1.3, \"Limiting graph\")\n",
                "\n",
                "pgm.render();"
            ]
        },
        {
            "cell_type": "markdown",
            "metadata": {},
            "source": [
                "We can see from the data generating graph (left) that the $RV$ is a confounding variable as it influences both the treatment $Z$ and the outcome $Y$. \n",
                "\n",
                "If we tried to identify the causal effect of $Z \\rightarrow Y$ by conditioning on the running variable ($RV=rv$), we would eliminate any variation in $Z$ or $Y$ caused by $RV$. And because $Z$ is constant for any given value of $RV$, then the $Z \\rightarrow Y$ path would disappear and we could not estimate the causal effect.\n",
                "\n",
                "Identification of the causal effect of $Z \\rightarrow Y$ is done with a limiting graph (right). The $RV$ node is replaced by a subset of the data where $RV$ is close to the cutoff value $\\lambda$, hence the name \"limiting graph\" and the symbol $RV \\rightarrow \\lambda$.\n",
                "\n",
                "In the limit, this eliminates variation in the running variable and so breaks the $RV \\rightarrow Y$ path. The causal effect of $Z \\rightarrow Y$ can be estimated by comparing the outcomes of units just above and just below the cutoff value $\\lambda$.\n",
                "\n",
                "Readers are referred to {cite:t}`steiner2017graphical` and [Chapter 6](https://mixtape.scunning.com/06-regression_discontinuity) of {cite:t}`cunningham2021causal` who discuss limiting graphs in more detail. Chapter 20 of {cite:t}`huntington2021effect` also covers regression discontinuity designs, but presents simplified (and non-kosher, in his own words) causal DAG."
            ]
        },
        {
            "cell_type": "markdown",
            "metadata": {},
            "source": [
                "## References\n",
                ":::{bibliography}\n",
                ":filter: docname in docnames\n",
                ":::"
            ]
        }
    ],
    "metadata": {
        "kernelspec": {
            "display_name": "CausalPy",
            "language": "python",
            "name": "python3"
        },
        "language_info": {
            "codemirror_mode": {
                "name": "ipython",
                "version": 3
            },
            "file_extension": ".py",
            "mimetype": "text/x-python",
            "name": "python",
            "nbconvert_exporter": "python",
            "pygments_lexer": "ipython3",
            "version": "3.11.8"
        }
    },
    "nbformat": 4,
    "nbformat_minor": 2
}
