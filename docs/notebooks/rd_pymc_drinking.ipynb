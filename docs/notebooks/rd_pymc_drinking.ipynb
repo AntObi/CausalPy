{
    "cells": [
        {
            "cell_type": "markdown",
            "metadata": {},
            "source": [
                "# Drinking age - Bayesian analysis\n",
                "\n",
                "Run the 'drinking example' from the RDD chapter of [Causal Inference for the Brave and True](https://matheusfacure.github.io/python-causality-handbook/16-Regression-Discontinuity-Design.html).\n",
                "\n",
                "Use `pymc` models"
            ]
        },
        {
            "cell_type": "code",
            "execution_count": null,
            "metadata": {},
            "outputs": [],
            "source": [
                "import arviz as az\n",
                "import pandas as pd\n",
                "import pathlib"
            ]
        },
        {
            "cell_type": "code",
            "execution_count": null,
            "metadata": {},
            "outputs": [],
            "source": [
                "# %config InlineBackend.figure_format = 'svg'\n",
                "az.style.use(\"arviz-darkgrid\")"
            ]
        },
        {
            "cell_type": "code",
            "execution_count": null,
            "metadata": {},
            "outputs": [],
            "source": [
                "%load_ext autoreload\n",
                "%autoreload 2"
            ]
        },
        {
            "cell_type": "markdown",
            "metadata": {},
            "source": [
                "## Load data"
            ]
        },
        {
            "cell_type": "code",
            "execution_count": null,
            "metadata": {},
            "outputs": [],
            "source": [
                "rd_data_path = pathlib.Path.cwd().parents[1] / \"causalpy\" / \"data\" / \"drinking.csv\"\n",
                "df = (\n",
                "    pd.read_csv(rd_data_path)[[\"agecell\", \"all\", \"mva\", \"suicide\"]]\n",
                "    .rename(columns={\"agecell\": \"age\"})\n",
                "    .assign(treated=lambda df_: df_.age > 21)\n",
                "    .dropna(axis=0)\n",
                ")"
            ]
        },
        {
            "cell_type": "markdown",
            "metadata": {},
            "source": [
                "## Run the analysis"
            ]
        },
        {
            "cell_type": "code",
            "execution_count": null,
            "metadata": {},
            "outputs": [],
            "source": [
                "from causalpy.pymc_experiments import RegressionDiscontinuity\n",
                "from causalpy.pymc_models import LinearRegression\n",
                "\n",
                "result = RegressionDiscontinuity(\n",
                "    df,\n",
                "    formula=\"all ~ 1 + age + treated + age:treated\",\n",
                "    running_variable_name=\"age\",\n",
                "    outcome_variable_name=\"all\",\n",
                "    prediction_model=LinearRegression(),\n",
                "    treatment_threshold=21,\n",
                ")"
            ]
        },
        {
            "cell_type": "code",
            "execution_count": null,
            "metadata": {},
            "outputs": [],
            "source": [
                "fig, ax = result.plot()"
            ]
        },
        {
            "cell_type": "code",
            "execution_count": null,
            "metadata": {},
            "outputs": [],
            "source": []
        }
    ],
    "metadata": {
        "kernelspec": {
            "display_name": "Python 3.10.6 ('CausalPy')",
            "language": "python",
            "name": "python3"
        },
        "language_info": {
            "codemirror_mode": {
                "name": "ipython",
                "version": 3
            },
            "file_extension": ".py",
            "mimetype": "text/x-python",
            "name": "python",
            "nbconvert_exporter": "python",
            "pygments_lexer": "ipython3",
            "version": "3.10.6"
        },
        "orig_nbformat": 4,
        "vscode": {
            "interpreter": {
                "hash": "46d31859cc45aa26a1223a391e7cf3023d69984b498bed11e66c690302b7e251"
            }
        }
    },
    "nbformat": 4,
    "nbformat_minor": 2
}
