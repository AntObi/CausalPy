{
    "cells": [
        {
            "cell_type": "markdown",
            "metadata": {},
            "source": [
                "# Interrupted time series with `pymc` models"
            ]
        },
        {
            "cell_type": "code",
            "execution_count": null,
            "metadata": {},
            "outputs": [],
            "source": [
                "import arviz as az\n",
                "import pandas as pd\n",
                "import pathlib"
            ]
        },
        {
            "cell_type": "code",
            "execution_count": null,
            "metadata": {},
            "outputs": [],
            "source": [
                "# %config InlineBackend.figure_format = 'svg'\n",
                "az.style.use(\"arviz-darkgrid\")"
            ]
        },
        {
            "cell_type": "code",
            "execution_count": null,
            "metadata": {},
            "outputs": [],
            "source": [
                "%load_ext autoreload\n",
                "%autoreload 2"
            ]
        },
        {
            "cell_type": "markdown",
            "metadata": {},
            "source": [
                "## Load data"
            ]
        },
        {
            "cell_type": "code",
            "execution_count": null,
            "metadata": {},
            "outputs": [],
            "source": [
                "its_data_path = pathlib.Path.cwd().parents[1] / \"causalpy\" / \"data\" / \"its.csv\"\n",
                "df = pd.read_csv(its_data_path, parse_dates=[\"date\"])\n",
                "df.set_index(\"date\", inplace=True)\n",
                "treatment_time = pd.to_datetime(\"2017-01-01\")"
            ]
        },
        {
            "cell_type": "markdown",
            "metadata": {},
            "source": [
                "## Run the analysis"
            ]
        },
        {
            "cell_type": "code",
            "execution_count": null,
            "metadata": {},
            "outputs": [],
            "source": [
                "from causalpy.pymc_experiments import InterruptedTimeSeries\n",
                "from causalpy.pymc_models import LinearRegression\n",
                "\n",
                "result = InterruptedTimeSeries(\n",
                "    df,\n",
                "    treatment_time,\n",
                "    formula=\"y ~ 1 + t + C(month)\",\n",
                "    prediction_model=LinearRegression(),\n",
                ")"
            ]
        },
        {
            "cell_type": "code",
            "execution_count": null,
            "metadata": {},
            "outputs": [],
            "source": [
                "fig, ax = result.plot()"
            ]
        },
        {
            "cell_type": "code",
            "execution_count": null,
            "metadata": {},
            "outputs": [],
            "source": []
        }
    ],
    "metadata": {
        "kernelspec": {
            "display_name": "Python 3.10.6 ('CausalPy')",
            "language": "python",
            "name": "python3"
        },
        "language_info": {
            "codemirror_mode": {
                "name": "ipython",
                "version": 3
            },
            "file_extension": ".py",
            "mimetype": "text/x-python",
            "name": "python",
            "nbconvert_exporter": "python",
            "pygments_lexer": "ipython3",
            "version": "3.10.6"
        },
        "orig_nbformat": 4,
        "vscode": {
            "interpreter": {
                "hash": "46d31859cc45aa26a1223a391e7cf3023d69984b498bed11e66c690302b7e251"
            }
        }
    },
    "nbformat": 4,
    "nbformat_minor": 2
}
