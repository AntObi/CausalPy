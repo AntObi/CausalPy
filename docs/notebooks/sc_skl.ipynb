{
 "cells": [
  {
   "cell_type": "markdown",
   "metadata": {},
   "source": [
    "# Synthetic control with sci-kit learn models"
   ]
  },
  {
   "cell_type": "code",
   "execution_count": 1,
   "metadata": {},
   "outputs": [],
   "source": [
    "import causalpy as cp\n",
    "import arviz as az"
   ]
  },
  {
   "cell_type": "code",
   "execution_count": 2,
   "metadata": {},
   "outputs": [],
   "source": [
    "az.style.use(\"arviz-darkgrid\")"
   ]
  },
  {
   "cell_type": "markdown",
   "metadata": {},
   "source": [
    "## Load data"
   ]
  },
  {
   "cell_type": "code",
   "execution_count": 3,
   "metadata": {},
   "outputs": [],
   "source": [
    "df = cp.load_data(\"sc\")\n",
    "treatment_time = 70"
   ]
  },
  {
   "cell_type": "markdown",
   "metadata": {},
   "source": [
    "## Analyse with `WeightedProportion` model"
   ]
  },
  {
   "cell_type": "code",
   "execution_count": 4,
   "metadata": {},
   "outputs": [
    {
     "ename": "AttributeError",
     "evalue": "module 'causalpy.skl_models' has no attribute 'SyntheticControl'",
     "output_type": "error",
     "traceback": [
      "\u001b[0;31m---------------------------------------------------------------------------\u001b[0m",
      "\u001b[0;31mAttributeError\u001b[0m                            Traceback (most recent call last)",
      "Cell \u001b[0;32mIn [4], line 2\u001b[0m\n\u001b[1;32m      1\u001b[0m \u001b[39m# Note, we do not want an intercept in this model\u001b[39;00m\n\u001b[0;32m----> 2\u001b[0m result \u001b[39m=\u001b[39m cp\u001b[39m.\u001b[39;49mskl_models\u001b[39m.\u001b[39;49mSyntheticControl(\n\u001b[1;32m      3\u001b[0m     df,\n\u001b[1;32m      4\u001b[0m     treatment_time,\n\u001b[1;32m      5\u001b[0m     formula\u001b[39m=\u001b[39m\u001b[39m\"\u001b[39m\u001b[39mactual ~ 0 + a + b + c + d + e + f + g\u001b[39m\u001b[39m\"\u001b[39m,\n\u001b[1;32m      6\u001b[0m     prediction_model\u001b[39m=\u001b[39mcp\u001b[39m.\u001b[39mskl_experiments\u001b[39m.\u001b[39mWeightedProportion(),\n\u001b[1;32m      7\u001b[0m )\n",
      "\u001b[0;31mAttributeError\u001b[0m: module 'causalpy.skl_models' has no attribute 'SyntheticControl'"
     ]
    }
   ],
   "source": [
    "# Note, we do not want an intercept in this model\n",
    "result = cp.skl_models.SyntheticControl(\n",
    "    df,\n",
    "    treatment_time,\n",
    "    formula=\"actual ~ 0 + a + b + c + d + e + f + g\",\n",
    "    prediction_model=cp.skl_experiments.WeightedProportion(),\n",
    ")"
   ]
  },
  {
   "cell_type": "code",
   "execution_count": null,
   "metadata": {},
   "outputs": [],
   "source": [
    "fig, ax = result.plot(plot_predictors=True)"
   ]
  },
  {
   "cell_type": "code",
   "execution_count": null,
   "metadata": {},
   "outputs": [],
   "source": [
    "result.plot_coeffs()"
   ]
  },
  {
   "cell_type": "markdown",
   "metadata": {},
   "source": [
    "But we can see that (for this dataset) these estimates are quite bad. So we can lift the \"sum to 1\" assumption and instead use the `LinearRegression` model, but still constrain weights to be positive. Equally, you could experiment with the `Ridge` model (e.g. `Ridge(positive=True, alpha=100)`)."
   ]
  },
  {
   "cell_type": "markdown",
   "metadata": {},
   "source": [
    "## Analyse with the `LinearRegression` model"
   ]
  },
  {
   "cell_type": "code",
   "execution_count": null,
   "metadata": {},
   "outputs": [],
   "source": [
    "from sklearn.linear_model import LinearRegression\n",
    "\n",
    "# Note, we do not want an intercept in this model\n",
    "result = cp.skl_experiments.SyntheticControl(\n",
    "    df,\n",
    "    treatment_time,\n",
    "    formula=\"actual ~ 0 + a + b + c + d + e + f + g\",\n",
    "    prediction_model=LinearRegression(positive=True),\n",
    ")"
   ]
  },
  {
   "cell_type": "code",
   "execution_count": null,
   "metadata": {},
   "outputs": [],
   "source": [
    "fig, ax = result.plot()"
   ]
  },
  {
   "cell_type": "code",
   "execution_count": null,
   "metadata": {},
   "outputs": [],
   "source": [
    "result.plot_coeffs()"
   ]
  }
 ],
 "metadata": {
  "kernelspec": {
   "display_name": "Python 3.10.6 ('CausalPy')",
   "language": "python",
   "name": "python3"
  },
  "language_info": {
   "codemirror_mode": {
    "name": "ipython",
    "version": 3
   },
   "file_extension": ".py",
   "mimetype": "text/x-python",
   "name": "python",
   "nbconvert_exporter": "python",
   "pygments_lexer": "ipython3",
   "version": "3.10.6"
  },
  "orig_nbformat": 4,
  "vscode": {
   "interpreter": {
    "hash": "46d31859cc45aa26a1223a391e7cf3023d69984b498bed11e66c690302b7e251"
   }
  }
 },
 "nbformat": 4,
 "nbformat_minor": 2
}
